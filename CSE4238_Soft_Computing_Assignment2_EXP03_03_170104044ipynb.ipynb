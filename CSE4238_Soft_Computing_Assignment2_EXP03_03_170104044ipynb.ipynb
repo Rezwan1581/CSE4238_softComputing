{
  "nbformat": 4,
  "nbformat_minor": 0,
  "metadata": {
    "colab": {
      "name": "CSE4238_Soft_Computing_Assignment2_EXP03/03_170104044ipynb.ipynb",
      "provenance": []
    },
    "kernelspec": {
      "name": "python3",
      "display_name": "Python 3"
    },
    "language_info": {
      "name": "python"
    }
  },
  "cells": [
    {
      "cell_type": "markdown",
      "metadata": {
        "id": "XNn0n2xEboJ0"
      },
      "source": [
        "# Download Zip And unzip"
      ]
    },
    {
      "cell_type": "code",
      "metadata": {
        "id": "0hjUN-apbhMh"
      },
      "source": [
        "import pandas as pd\n",
        "import numpy as np\n",
        "\n",
        "import torch\n",
        "import torch.nn as nn\n",
        "import torch.nn.functional as F\n",
        "import torch.optim as optim\n",
        "from torch.optim import lr_scheduler\n",
        "from torch.autograd import Variable\n",
        "from torch.utils.data import DataLoader, Dataset\n",
        "from torchvision import transforms\n",
        "from torchvision.utils import make_grid\n",
        "\n",
        "import math\n",
        "import random\n",
        "\n",
        "from PIL import Image, ImageOps, ImageEnhance\n",
        "import numbers\n",
        "\n",
        "import matplotlib.pyplot as plt\n",
        "%matplotlib inline"
      ],
      "execution_count": 7,
      "outputs": []
    },
    {
      "cell_type": "code",
      "metadata": {
        "colab": {
          "base_uri": "https://localhost:8080/"
        },
        "id": "R6TqQtCBcAq0",
        "outputId": "59e2e7eb-7bee-4a22-ebc6-dedb73ca1ff0"
      },
      "source": [
        "from google.colab import drive\n",
        "drive.mount('/content/drive')"
      ],
      "execution_count": 2,
      "outputs": [
        {
          "output_type": "stream",
          "name": "stdout",
          "text": [
            "Drive already mounted at /content/drive; to attempt to forcibly remount, call drive.mount(\"/content/drive\", force_remount=True).\n"
          ]
        }
      ]
    },
    {
      "cell_type": "code",
      "metadata": {
        "colab": {
          "base_uri": "https://localhost:8080/"
        },
        "id": "o5Bej0SAcM4s",
        "outputId": "e2d23c7e-9df9-4d2b-de8f-82ecdc9c81c0"
      },
      "source": [
        "!gdown --id '1XgnBPc4fG412-4HCFl-o9uBJO9PS58HK'"
      ],
      "execution_count": 3,
      "outputs": [
        {
          "output_type": "stream",
          "name": "stdout",
          "text": [
            "Downloading...\n",
            "From: https://drive.google.com/uc?id=1XgnBPc4fG412-4HCFl-o9uBJO9PS58HK\n",
            "To: /content/CSE4238_Soft_Computing_Assignment_2_Dataset_2.zip\n",
            "69.8MB [00:02, 25.2MB/s]\n"
          ]
        }
      ]
    },
    {
      "cell_type": "code",
      "metadata": {
        "colab": {
          "base_uri": "https://localhost:8080/"
        },
        "id": "SoSa_4QzcYU3",
        "outputId": "a18ddcf4-6188-422a-f120-439eb4dff1d5"
      },
      "source": [
        "!unzip '/content/CSE4238_Soft_Computing_Assignment_2_Dataset_2.zip'"
      ],
      "execution_count": 4,
      "outputs": [
        {
          "output_type": "stream",
          "name": "stdout",
          "text": [
            "Archive:  /content/CSE4238_Soft_Computing_Assignment_2_Dataset_2.zip\n",
            "   creating: Dataset_2/\n",
            "  inflating: Dataset_2/t10k-images-idx3-ubyte  \n",
            "  inflating: Dataset_2/t10k-labels-idx1-ubyte  \n",
            "  inflating: Dataset_2/train-images-idx3-ubyte  \n",
            "  inflating: Dataset_2/train-labels-idx1-ubyte  \n",
            "  inflating: Dataset_2/verification_test.csv  \n",
            "  inflating: Dataset_2/verification_train.csv  \n"
          ]
        }
      ]
    },
    {
      "cell_type": "markdown",
      "metadata": {
        "id": "9iaL9MqCcpgF"
      },
      "source": [
        "## Data"
      ]
    },
    {
      "cell_type": "code",
      "metadata": {
        "colab": {
          "base_uri": "https://localhost:8080/"
        },
        "id": "PHiYvMyjcrui",
        "outputId": "0c42f3ab-a058-41ad-92a2-64838d97e4e3"
      },
      "source": [
        "train_df = pd.read_csv('/content/Dataset_2/verification_train.csv')\n",
        "\n",
        "n_train = len(train_df)\n",
        "n_pixels = len(train_df.columns) - 1\n",
        "n_class = len(set(train_df['label']))\n",
        "\n",
        "print('Number of training samples: {0}'.format(n_train))\n",
        "print('Number of training pixels: {0}'.format(n_pixels))\n",
        "print('Number of classes: {0}'.format(n_class))"
      ],
      "execution_count": 12,
      "outputs": [
        {
          "output_type": "stream",
          "name": "stdout",
          "text": [
            "Number of training samples: 60000\n",
            "Number of training pixels: 784\n",
            "Number of classes: 10\n"
          ]
        }
      ]
    },
    {
      "cell_type": "code",
      "metadata": {
        "colab": {
          "base_uri": "https://localhost:8080/"
        },
        "id": "jXG1M7UadD6p",
        "outputId": "7449ecce-698a-46b6-ad88-63f3309e36a8"
      },
      "source": [
        "test_df = pd.read_csv('/content/Dataset_2/verification_test.csv')\n",
        "\n",
        "n_test = len(test_df)\n",
        "n_pixels = len(test_df.columns)-1\n",
        "n_class = len(set(train_df['label']))\n",
        "\n",
        "print('Number of train samples: {0}'.format(n_test))\n",
        "print('Number of test pixels: {0}'.format(n_pixels))\n",
        "print('Number of classes: {0}'.format(n_class))"
      ],
      "execution_count": 14,
      "outputs": [
        {
          "output_type": "stream",
          "name": "stdout",
          "text": [
            "Number of train samples: 10000\n",
            "Number of test pixels: 784\n",
            "Number of classes: 10\n"
          ]
        }
      ]
    },
    {
      "cell_type": "code",
      "metadata": {
        "id": "aTJgGh6adLlX"
      },
      "source": [
        "'''\n",
        "random_sel = np.random.randint(n_train, size=8)\n",
        "\n",
        "grid = make_grid(torch.Tensor((train_df.iloc[random_sel, 1:].values/255.).reshape((-1, 28, 28))).unsqueeze(1), nrow=8)\n",
        "plt.rcParams['figure.figsize'] = (16, 2)\n",
        "plt.imshow(grid.numpy().transpose((1,2,0)))\n",
        "plt.axis('off')\n",
        "print(*list(train_df.iloc[random_sel, 0].values), sep = ', ')\n",
        "'''"
      ],
      "execution_count": null,
      "outputs": []
    },
    {
      "cell_type": "markdown",
      "metadata": {
        "id": "uDYlSO6-dXhV"
      },
      "source": [
        "# Data Preprocess"
      ]
    },
    {
      "cell_type": "code",
      "metadata": {
        "id": "SlgZiy32dZ45"
      },
      "source": [
        "class processDataset(Dataset):\n",
        "    \n",
        "    def __init__(self, file_path, \n",
        "                 transform = transforms.Compose([transforms.ToPILImage(), transforms.ToTensor(), \n",
        "                     transforms.Normalize(mean=(0.5,), std=(0.5,))])\n",
        "                ):\n",
        "        \n",
        "        df = pd.read_csv(file_path)\n",
        "        \n",
        "        # training data\n",
        "        self.X = df.iloc[:,1:].values.reshape((-1,28,28)).astype(np.uint8)[:,:,:,None]\n",
        "        self.y = torch.from_numpy(df.iloc[:,0].values)\n",
        "            \n",
        "        self.transform = transform\n",
        "    \n",
        "    def __len__(self):\n",
        "        return len(self.X)\n",
        "\n",
        "    def __getitem__(self, idx):\n",
        "        return self.transform(self.X[idx]), self.y[idx]"
      ],
      "execution_count": 16,
      "outputs": []
    },
    {
      "cell_type": "code",
      "metadata": {
        "id": "x0abyOzgddN2"
      },
      "source": [
        "train_dataset = processDataset('/content/Dataset_2/verification_train.csv', transform= transforms.Compose(\n",
        "                            [transforms.ToPILImage(),\n",
        "                            transforms.ToTensor(), \n",
        "                            transforms.Normalize(mean=(0.5,), std=(0.5,))]))\n",
        "test_dataset = processDataset('/content/Dataset_2/verification_test.csv', transform= transforms.Compose(\n",
        "                            [transforms.ToPILImage(),\n",
        "                            transforms.ToTensor(), \n",
        "                            transforms.Normalize(mean=(0.5,), std=(0.5,))]))"
      ],
      "execution_count": 17,
      "outputs": []
    },
    {
      "cell_type": "code",
      "metadata": {
        "colab": {
          "base_uri": "https://localhost:8080/"
        },
        "id": "eYJBmMu9dkg3",
        "outputId": "437fedfb-d3eb-4a2b-8ea2-caca76b19539"
      },
      "source": [
        "print(len(train_dataset), len(test_dataset))"
      ],
      "execution_count": 18,
      "outputs": [
        {
          "output_type": "stream",
          "name": "stdout",
          "text": [
            "60000 10000\n"
          ]
        }
      ]
    },
    {
      "cell_type": "markdown",
      "metadata": {
        "id": "n1BDZbkXdrh6"
      },
      "source": [
        "# Models"
      ]
    },
    {
      "cell_type": "markdown",
      "metadata": {
        "id": "VHBcRV4KdwGc"
      },
      "source": [
        "## Model 1"
      ]
    },
    {
      "cell_type": "code",
      "metadata": {
        "id": "Gcd4DFFtdt7h"
      },
      "source": [
        "# Hyperparameters\n",
        "batch_size = 20\n",
        "num_iters = 20000\n",
        "input_dim = 28*28\n",
        "output_dim = 10\n",
        "learning_rate = 0.01"
      ],
      "execution_count": 20,
      "outputs": []
    },
    {
      "cell_type": "code",
      "metadata": {
        "colab": {
          "base_uri": "https://localhost:8080/"
        },
        "id": "-crg3_xxd67Y",
        "outputId": "ceeb31bf-40c3-422b-8d9e-1c88d364586e"
      },
      "source": [
        "import torch\n",
        "import torch.nn as nn\n",
        "import torchvision.transforms as transforms\n",
        "import torchvision.datasets as dsets\n",
        "\n",
        "device = torch.device(\"cuda:0\" if torch.cuda.is_available() else \"cpu\")\n",
        "\n",
        "num_epochs = num_iters / (len(train_dataset) / batch_size)\n",
        "num_epochs = int(num_epochs)\n",
        "\n",
        "train_loader = torch.utils.data.DataLoader(dataset=train_dataset, \n",
        "                                           batch_size=batch_size, \n",
        "                                           shuffle=True)\n",
        "\n",
        "test_loader = torch.utils.data.DataLoader(dataset=test_dataset, \n",
        "                                          batch_size=batch_size, \n",
        "                                          shuffle=False) \n",
        "\n",
        "class DeepNeuralNetworkModel(nn.Module):\n",
        "    def __init__(self, input_size, num_classes):\n",
        "        super().__init__()\n",
        "        self.linear_1 = nn.Linear(input_size, 75)\n",
        "        self.relu_1 = nn.ReLU()\n",
        "\n",
        "        self.linear_2 = nn.Linear(75, 45)\n",
        "        self.relu_2 = nn.ReLU()\n",
        "\n",
        "        self.linear_3 = nn.Linear(45, 30)\n",
        "        self.relu_3 = nn.ReLU()\n",
        "\n",
        "        self.linear_4 = nn.Linear(30, 20)\n",
        "        self.relu_4 = nn.ReLU()\n",
        "\n",
        "        self.linear_5 = nn.Linear(20, 16)\n",
        "        self.relu_5 = nn.ReLU()\n",
        "\n",
        "        self.linear_6 = nn.Linear(16, 14)\n",
        "        self.relu_6 = nn.ReLU()\n",
        "\n",
        "        self.linear_out = nn.Linear(14, num_classes)\n",
        "\n",
        "    def forward(self, x):\n",
        "        \n",
        "        out  = self.linear_1(x)\n",
        "        out = self.relu_1(out)\n",
        "        \n",
        "        out  = self.linear_2(out)\n",
        "        out = self.relu_2(out)\n",
        "\n",
        "        out  = self.linear_3(out)\n",
        "        out = self.relu_3(out)\n",
        "\n",
        "        out  = self.linear_4(out)\n",
        "        out = self.relu_4(out)\n",
        "\n",
        "        out  = self.linear_5(out)\n",
        "        out = self.relu_5(out)\n",
        "\n",
        "        out  = self.linear_6(out)\n",
        "        out = self.relu_6(out)\n",
        "        \n",
        "        probas  = self.linear_out(out)\n",
        "        return probas\n",
        "\n",
        "# INSTANTIATE MODEL CLASS\n",
        "\n",
        "model = DeepNeuralNetworkModel(input_size = input_dim,\n",
        "                               num_classes = output_dim)\n",
        "# To enable GPU\n",
        "model.to(device)\n",
        "\n",
        "# INSTANTIATE LOSS & OPTIMIZER CLASS\n",
        "criterion = nn.CrossEntropyLoss()\n",
        "optimizer = torch.optim.SGD(model.parameters(), lr=learning_rate)\n",
        "\n",
        "iter = 0\n",
        "test_loss_min = 9999999\n",
        "iter_data,train_loss_data, test_loss_data, acc_data = [], [], [], []\n",
        "\n",
        "for epoch in range(num_epochs):\n",
        "    train_loss = 0.0\n",
        "    test_loss = 0.0\n",
        "    for i, (images, labels) in enumerate(train_loader):\n",
        "\n",
        "        images = images.view(-1, input_dim).to(device)\n",
        "        labels = labels.to(device)\n",
        "\n",
        "        # Clear gradients w.r.t. parameters\n",
        "        optimizer.zero_grad()\n",
        "\n",
        "        # Forward pass to get output/logits\n",
        "        outputs = model(images) \n",
        "\n",
        "        # Calculate Loss: softmax --> cross entropy loss\n",
        "        loss = criterion(outputs, labels)\n",
        "\n",
        "        # Getting gradients w.r.t. parameters\n",
        "        loss.backward()\n",
        "\n",
        "        # Updating parameters\n",
        "        optimizer.step()\n",
        "\n",
        "        train_loss += loss.item() * images.size(0)\n",
        "\n",
        "        iter += 1\n",
        "\n",
        "        if iter % 500 == 0:\n",
        "            # Calculate Accuracy         \n",
        "            correct = 0\n",
        "            total = 0\n",
        "            # Iterate through test dataset\n",
        "            for images, labels in test_loader:\n",
        "               \n",
        "                images = images.view(-1, input_dim).to(device)\n",
        "                labels = labels.to(device)\n",
        "\n",
        "                # Forward pass only to get logits/output\n",
        "                outputs = model(images)\n",
        "\n",
        "                loss = criterion(outputs, labels)\n",
        "\n",
        "                test_loss += loss.item() * images.size(0)\n",
        "\n",
        "                # Get predictions from the maximum value\n",
        "                _, predicted = torch.max(outputs, 1)\n",
        "\n",
        "                # Total number of labels\n",
        "                total += labels.size(0)\n",
        "\n",
        "\n",
        "                # Total correct predictions\n",
        "                if torch.cuda.is_available():\n",
        "                    correct += (predicted.cpu() == labels.cpu()).sum() \n",
        "                else:\n",
        "                    correct += (predicted == labels).sum()\n",
        "\n",
        "            train_loss = train_loss / len(train_loader.dataset)\n",
        "            test_loss = test_loss / len(test_loader.dataset)\n",
        "            train_loss_data.append(train_loss)\n",
        "            test_loss_data.append(test_loss)\n",
        "            accuracy = 100 * correct.item() / total\n",
        "            acc_data.append(accuracy)\n",
        "            iter_data.append(iter)\n",
        "\n",
        "            # Print Loss\n",
        "            print('Iteration: {}. Train_Loss: {}. Valid_Loss: {}. Accuracy: {}'.format(iter, train_loss, test_loss, accuracy))\n",
        "\n",
        "            if test_loss <= test_loss_min:\n",
        "              print('***Validation loss decreased ({:.6f} --> {:.6f}). Saving model ...***'.format(test_loss_min,test_loss))\n",
        "              torch.save(model.state_dict(), 'EXP_01_dataset_2.pt')\n",
        "              test_loss_min = test_loss"
      ],
      "execution_count": 21,
      "outputs": [
        {
          "output_type": "stream",
          "name": "stdout",
          "text": [
            "Iteration: 500. Train_Loss: 0.3846165653069814. Valid_Loss: 2.303398145198822. Accuracy: 10.0\n",
            "***Validation loss decreased (9999999.000000 --> 2.303398). Saving model ...***\n",
            "Iteration: 1000. Train_Loss: 0.3836836180639201. Valid_Loss: 2.300647465039587. Accuracy: 18.67\n",
            "***Validation loss decreased (2.303398 --> 2.300647). Saving model ...***\n",
            "Iteration: 1500. Train_Loss: 0.38311355426205784. Valid_Loss: 2.2970164221493055. Accuracy: 21.66\n",
            "***Validation loss decreased (2.300647 --> 2.297016). Saving model ...***\n",
            "Iteration: 2000. Train_Loss: 0.3821966124165579. Valid_Loss: 2.2870560537616607. Accuracy: 20.82\n",
            "***Validation loss decreased (2.297016 --> 2.287056). Saving model ...***\n",
            "Iteration: 2500. Train_Loss: 0.37904046952239767. Valid_Loss: 2.2554230177010184. Accuracy: 32.63\n",
            "***Validation loss decreased (2.287056 --> 2.255423). Saving model ...***\n",
            "Iteration: 3000. Train_Loss: 0.36491503656290963. Valid_Loss: 2.046073272938367. Accuracy: 32.45\n",
            "***Validation loss decreased (2.255423 --> 2.046073). Saving model ...***\n",
            "Iteration: 3500. Train_Loss: 0.2575110223094622. Valid_Loss: 1.1598040827512741. Accuracy: 50.48\n",
            "***Validation loss decreased (2.046073 --> 1.159804). Saving model ...***\n",
            "Iteration: 4000. Train_Loss: 0.16045171979868778. Valid_Loss: 0.8481230256772877. Accuracy: 64.88\n",
            "***Validation loss decreased (1.159804 --> 0.848123). Saving model ...***\n",
            "Iteration: 4500. Train_Loss: 0.13785911969657802. Valid_Loss: 0.8601561001133701. Accuracy: 64.73\n",
            "Iteration: 5000. Train_Loss: 0.12648352574530117. Valid_Loss: 0.7694698034208138. Accuracy: 69.7\n",
            "***Validation loss decreased (0.848123 --> 0.769470). Saving model ...***\n",
            "Iteration: 5500. Train_Loss: 0.12007212157193012. Valid_Loss: 0.7407089787191002. Accuracy: 69.22\n",
            "***Validation loss decreased (0.769470 --> 0.740709). Saving model ...***\n",
            "Iteration: 6000. Train_Loss: 0.11264017460338194. Valid_Loss: 0.6269577684672422. Accuracy: 75.77\n",
            "***Validation loss decreased (0.740709 --> 0.626958). Saving model ...***\n",
            "Iteration: 6500. Train_Loss: 0.10538615647455056. Valid_Loss: 0.627241734623909. Accuracy: 77.56\n",
            "Iteration: 7000. Train_Loss: 0.1014418009035891. Valid_Loss: 0.5703205113712907. Accuracy: 79.26\n",
            "***Validation loss decreased (0.626958 --> 0.570321). Saving model ...***\n",
            "Iteration: 7500. Train_Loss: 0.0982078738768947. Valid_Loss: 0.553403680297187. Accuracy: 78.88\n",
            "***Validation loss decreased (0.570321 --> 0.553404). Saving model ...***\n",
            "Iteration: 8000. Train_Loss: 0.09476502211860113. Valid_Loss: 0.5505558608357879. Accuracy: 80.67\n",
            "***Validation loss decreased (0.553404 --> 0.550556). Saving model ...***\n",
            "Iteration: 8500. Train_Loss: 0.09265277841016187. Valid_Loss: 0.5115004345750648. Accuracy: 82.17\n",
            "***Validation loss decreased (0.550556 --> 0.511500). Saving model ...***\n",
            "Iteration: 9000. Train_Loss: 0.08761108651824434. Valid_Loss: 0.5342954397396741. Accuracy: 81.54\n",
            "Iteration: 9500. Train_Loss: 0.08351309446742138. Valid_Loss: 0.5148253441751003. Accuracy: 81.6\n",
            "Iteration: 10000. Train_Loss: 0.08549597222827346. Valid_Loss: 0.5148062878161758. Accuracy: 81.52\n",
            "Iteration: 10500. Train_Loss: 0.08077077013938944. Valid_Loss: 0.4863313034551671. Accuracy: 82.67\n",
            "***Validation loss decreased (0.511500 --> 0.486331). Saving model ...***\n",
            "Iteration: 11000. Train_Loss: 0.07941386035199674. Valid_Loss: 0.44681493063465133. Accuracy: 84.28\n",
            "***Validation loss decreased (0.486331 --> 0.446815). Saving model ...***\n",
            "Iteration: 11500. Train_Loss: 0.07934314632762325. Valid_Loss: 0.4348673483765321. Accuracy: 84.68\n",
            "***Validation loss decreased (0.446815 --> 0.434867). Saving model ...***\n",
            "Iteration: 12000. Train_Loss: 0.07769641067545023. Valid_Loss: 0.49046860156020555. Accuracy: 83.07\n",
            "Iteration: 12500. Train_Loss: 0.07404255545015137. Valid_Loss: 0.47907581128180027. Accuracy: 83.08\n",
            "Iteration: 13000. Train_Loss: 0.07582342085286575. Valid_Loss: 0.45018057588259125. Accuracy: 84.32\n",
            "Iteration: 13500. Train_Loss: 0.07027182098568431. Valid_Loss: 0.4035871404812371. Accuracy: 85.99\n",
            "***Validation loss decreased (0.434867 --> 0.403587). Saving model ...***\n",
            "Iteration: 14000. Train_Loss: 0.07235957076948821. Valid_Loss: 0.40811979103762314. Accuracy: 85.86\n",
            "Iteration: 14500. Train_Loss: 0.07055302971814917. Valid_Loss: 0.4322609443896301. Accuracy: 84.68\n",
            "Iteration: 15000. Train_Loss: 0.0677843131034762. Valid_Loss: 0.4439296033992314. Accuracy: 84.1\n",
            "Iteration: 15500. Train_Loss: 0.06467360706503193. Valid_Loss: 0.4042611130475998. Accuracy: 85.39\n",
            "Iteration: 16000. Train_Loss: 0.06918302759088599. Valid_Loss: 0.45081614937492615. Accuracy: 83.89\n",
            "Iteration: 16500. Train_Loss: 0.06764437578975899. Valid_Loss: 0.40943557577529166. Accuracy: 85.65\n",
            "Iteration: 17000. Train_Loss: 0.06703808202897887. Valid_Loss: 0.38164363755490105. Accuracy: 86.61\n",
            "***Validation loss decreased (0.403587 --> 0.381644). Saving model ...***\n",
            "Iteration: 17500. Train_Loss: 0.06524462414397043. Valid_Loss: 0.40806642289604117. Accuracy: 85.36\n",
            "Iteration: 18000. Train_Loss: 0.06522436208094369. Valid_Loss: 0.38358153946560186. Accuracy: 86.11\n"
          ]
        }
      ]
    },
    {
      "cell_type": "markdown",
      "metadata": {
        "id": "HQs3UTDye76X"
      },
      "source": [
        "## Loss Graph"
      ]
    },
    {
      "cell_type": "code",
      "metadata": {
        "colab": {
          "base_uri": "https://localhost:8080/",
          "height": 350
        },
        "id": "5VCjMR95e-SY",
        "outputId": "e99bad3c-4465-45ad-ca68-436bac178898"
      },
      "source": [
        "import matplotlib.pyplot as plt\n",
        "\n",
        "plt.rcParams['figure.figsize'] = (8, 5)\n",
        "plt.plot(iter_data, train_loss_data, 'c', label='Training loss')\n",
        "plt.plot(iter_data, test_loss_data, 'm', label='validation loss')\n",
        "plt.title('Training and Validation loss')\n",
        "plt.xlabel('Iteration')\n",
        "plt.ylabel('Loss')\n",
        "plt.legend()\n",
        "plt.show()"
      ],
      "execution_count": 24,
      "outputs": [
        {
          "output_type": "display_data",
          "data": {
            "image/png": "[encoded data removed]",
            "text/plain": [
              "<Figure size 576x360 with 1 Axes>"
            ]
          },
          "metadata": {
            "needs_background": "light"
          }
        }
      ]
    },
    {
      "cell_type": "markdown",
      "metadata": {
        "id": "v__0RoYFfKey"
      },
      "source": [
        "##  Accuract Graph "
      ]
    },
    {
      "cell_type": "code",
      "metadata": {
        "colab": {
          "base_uri": "https://localhost:8080/",
          "height": 350
        },
        "id": "W_21tsDjfNr5",
        "outputId": "ab7c1372-518d-4ca7-face-fb48472f6db5"
      },
      "source": [
        "import numpy as np\n",
        "import matplotlib.pyplot as plt\n",
        "plt.plot(iter_data, acc_data, 'g', label='Accuracy')\n",
        "plt.title('Accuracy Graph')\n",
        "plt.xlabel('Iteration')\n",
        "plt.ylabel('Accuracy')\n",
        "plt.legend()\n",
        "plt.show()"
      ],
      "execution_count": 25,
      "outputs": [
        {
          "output_type": "display_data",
          "data": {
            "image/png": "[encoded data removed]",
            "text/plain": [
              "<Figure size 576x360 with 1 Axes>"
            ]
          },
          "metadata": {
            "needs_background": "light"
          }
        }
      ]
    },
    {
      "cell_type": "markdown",
      "metadata": {
        "id": "Lc5WgBQzfT-8"
      },
      "source": [
        "# Model 2"
      ]
    },
    {
      "cell_type": "code",
      "metadata": {
        "id": "PbrL28q-fXI6"
      },
      "source": [
        "# Hyperparameters\n",
        "batch_size = 64\n",
        "num_iters = 40000\n",
        "input_dim = 28*28\n",
        "output_dim = 10\n",
        "learning_rate = 0.01\n"
      ],
      "execution_count": 26,
      "outputs": []
    },
    {
      "cell_type": "code",
      "metadata": {
        "colab": {
          "base_uri": "https://localhost:8080/"
        },
        "id": "8xkUsXOIffbs",
        "outputId": "d9fb2f56-461c-4af9-e6b3-aa7333e56026"
      },
      "source": [
        "device = torch.device(\"cuda:0\" if torch.cuda.is_available() else \"cpu\")\n",
        "\n",
        "num_epochs = num_iters / (len(train_dataset) / batch_size)\n",
        "num_epochs = int(num_epochs)\n",
        "\n",
        "train_loader = torch.utils.data.DataLoader(dataset=train_dataset, \n",
        "                                           batch_size=batch_size, \n",
        "                                           shuffle=True)\n",
        "\n",
        "test_loader = torch.utils.data.DataLoader(dataset=test_dataset, \n",
        "                                          batch_size=batch_size, \n",
        "                                          shuffle=False) \n",
        "\n",
        "class DeepNeuralNetworkModel(nn.Module):\n",
        "    def __init__(self, input_size, num_classes):\n",
        "        super().__init__()\n",
        "        self.linear_1 = nn.Linear(input_size, 684)\n",
        "        self.relu_1 = nn.ReLU()\n",
        "\n",
        "        self.linear_2 = nn.Linear(684, 500)\n",
        "        self.relu_2 = nn.ReLU()\n",
        "\n",
        "        self.linear_3 = nn.Linear(500, 300)\n",
        "        self.relu_3 = nn.ReLU()\n",
        "\n",
        "        self.linear_4 = nn.Linear(300, 150)\n",
        "        self.relu_4 = nn.ReLU()\n",
        "\n",
        "        self.linear_out = nn.Linear(150, num_classes)\n",
        "        self.relu_out = nn.ReLU()\n",
        "\n",
        "    def forward(self, x):\n",
        "        \n",
        "        out  = self.linear_1(x)\n",
        "        out = self.relu_1(out)\n",
        "        \n",
        "        out  = self.linear_2(out)\n",
        "        out = self.relu_2(out)\n",
        "\n",
        "        out  = self.linear_3(out)\n",
        "        out = self.relu_3(out)\n",
        "\n",
        "        out  = self.linear_4(out)\n",
        "        out = self.relu_4(out)\n",
        "        \n",
        "        probas  = self.linear_out(out)\n",
        "        probas  = self.relu_out(out)\n",
        "        return probas\n",
        "\n",
        "# INSTANTIATE MODEL CLASS\n",
        "\n",
        "model = DeepNeuralNetworkModel(input_size = input_dim,\n",
        "                               num_classes = output_dim)\n",
        "# To enable GPU\n",
        "model.to(device)\n",
        "\n",
        "# INSTANTIATE LOSS & OPTIMIZER CLASS\n",
        "criterion = nn.CrossEntropyLoss()\n",
        "optimizer = torch.optim.SGD(model.parameters(), lr=learning_rate)\n",
        "\n",
        "\n",
        "iter = 0\n",
        "test_loss_min = 9999999\n",
        "iter_data,train_loss_data, test_loss_data, acc_data = [], [], [], []\n",
        "\n",
        "for epoch in range(num_epochs):\n",
        "    train_loss = 0.0\n",
        "    test_loss = 0.0\n",
        "    for i, (images, labels) in enumerate(train_loader):\n",
        "\n",
        "        images = images.view(-1, input_dim).to(device)\n",
        "        labels = labels.to(device)\n",
        "\n",
        "        # Clear gradients w.r.t. parameters\n",
        "        optimizer.zero_grad()\n",
        "\n",
        "        # Forward pass to get output/logits\n",
        "        outputs = model(images) \n",
        "\n",
        "        # Calculate Loss: softmax --> cross entropy loss\n",
        "        loss = criterion(outputs, labels)\n",
        "\n",
        "        # Getting gradients w.r.t. parameters\n",
        "        loss.backward()\n",
        "\n",
        "        # Updating parameters\n",
        "        optimizer.step()\n",
        "\n",
        "        train_loss += loss.item() * images.size(0)\n",
        "\n",
        "        \n",
        "        iter += 1\n",
        "\n",
        "        if iter % 500 == 0:\n",
        "            # Calculate Accuracy         \n",
        "            correct = 0\n",
        "            total = 0\n",
        "            # Iterate through test dataset\n",
        "            for images, labels in test_loader:\n",
        "               \n",
        "                images = images.view(-1, input_dim).to(device)\n",
        "\n",
        "                # Forward pass only to get logits/output\n",
        "                outputs = model(images)\n",
        "                test_loss += loss.item() * images.size(0)\n",
        "\n",
        "                # Get predictions from the maximum value\n",
        "                _, predicted = torch.max(outputs, 1)\n",
        "\n",
        "                # Total number of labels\n",
        "                total += labels.size(0)\n",
        "\n",
        "\n",
        "                # Total correct predictions\n",
        "                if torch.cuda.is_available():\n",
        "                    correct += (predicted.cpu() == labels.cpu()).sum() \n",
        "                else:\n",
        "                    correct += (predicted == labels).sum()\n",
        "\n",
        "            accuracy = 100 * correct.item() / total\n",
        "\n",
        "            train_loss = train_loss / len(train_loader.dataset)\n",
        "            test_loss = test_loss / len(test_loader.dataset)\n",
        "            train_loss_data.append(train_loss)\n",
        "            test_loss_data.append(test_loss)\n",
        "            accuracy = 100 * correct.item() / total\n",
        "            acc_data.append(accuracy)\n",
        "            iter_data.append(iter)\n",
        "\n",
        "            # Print Loss\n",
        "            print('Iteration: {}. Train_Loss: {}. Valid_Loss: {}. Accuracy: {}'.format(iter, train_loss, test_loss, accuracy))\n",
        "\n",
        "            if test_loss <= test_loss_min:\n",
        "              print('***Validation loss decreased ({:.4f} --> {:.4f}). Saving model ...***'.format(test_loss_min,test_loss))\n",
        "              torch.save(model.state_dict(), 'EXP_02_trial_2.pt')\n",
        "              test_loss_min = test_loss"
      ],
      "execution_count": 27,
      "outputs": [
        {
          "output_type": "stream",
          "name": "stdout",
          "text": [
            "Iteration: 500. Train_Loss: 1.87353191019694. Valid_Loss: 2.774081230163574. Accuracy: 43.67\n",
            "***Validation loss decreased (9999999.0000 --> 2.7741). Saving model ...***\n",
            "Iteration: 1000. Train_Loss: 0.16934515012105306. Valid_Loss: 2.845170497894287. Accuracy: 47.25\n",
            "Iteration: 1500. Train_Loss: 1.3482965290587765. Valid_Loss: 2.276176297903061. Accuracy: 49.43\n",
            "***Validation loss decreased (2.7741 --> 2.2762). Saving model ...***\n",
            "Iteration: 2000. Train_Loss: 0.327765043258667. Valid_Loss: 2.517754077911377. Accuracy: 50.49\n",
            "Iteration: 2500. Train_Loss: 1.3045611861953417. Valid_Loss: 2.8165969902515413. Accuracy: 51.23\n",
            "Iteration: 3000. Train_Loss: 0.4816157038370768. Valid_Loss: 2.3380250930786133. Accuracy: 51.52\n",
            "Iteration: 3500. Train_Loss: 1.21459906213551. Valid_Loss: 2.4825700852394106. Accuracy: 60.45\n",
            "Iteration: 4000. Train_Loss: 0.4346461966196696. Valid_Loss: 1.8339176177978516. Accuracy: 68.97\n",
            "***Validation loss decreased (2.2762 --> 1.8339). Saving model ...***\n",
            "Iteration: 4500. Train_Loss: 0.8144145187945409. Valid_Loss: 1.1932745458602905. Accuracy: 70.14\n",
            "***Validation loss decreased (1.8339 --> 1.1933). Saving model ...***\n",
            "Iteration: 5000. Train_Loss: 0.48896975015004474. Valid_Loss: 1.8893983364105225. Accuracy: 70.56\n",
            "Iteration: 5500. Train_Loss: 0.766408941172675. Valid_Loss: 1.5673185518026351. Accuracy: 70.56\n",
            "Iteration: 6000. Train_Loss: 0.5669068045934041. Valid_Loss: 1.3649407625198364. Accuracy: 70.71\n",
            "Iteration: 6500. Train_Loss: 0.7510186918396876. Valid_Loss: 1.8929973835110665. Accuracy: 71.31\n",
            "Iteration: 7000. Train_Loss: 0.6475758103052776. Valid_Loss: 1.547577142715454. Accuracy: 71.35\n",
            "Iteration: 7500. Train_Loss: 0.7403539692632812. Valid_Loss: 0.6598391773462295. Accuracy: 71.32\n",
            "***Validation loss decreased (1.1933 --> 0.6598). Saving model ...***\n",
            "Iteration: 8000. Train_Loss: 0.7295444248199463. Valid_Loss: 1.151672601699829. Accuracy: 71.61\n",
            "Iteration: 8500. Train_Loss: 0.05641399129231771. Valid_Loss: 0.6056970953941345. Accuracy: 78.24\n",
            "***Validation loss decreased (0.6598 --> 0.6057). Saving model ...***\n",
            "Iteration: 9000. Train_Loss: 0.46809992064408196. Valid_Loss: 1.0506655091702939. Accuracy: 78.11\n",
            "Iteration: 9500. Train_Loss: 0.1110978383700053. Valid_Loss: 0.7388209104537964. Accuracy: 78.54\n",
            "Iteration: 10000. Train_Loss: 0.4599277812723631. Valid_Loss: 0.6735010466456414. Accuracy: 78.45\n",
            "Iteration: 10500. Train_Loss: 0.16190441932678223. Valid_Loss: 0.7306220531463623. Accuracy: 77.98\n",
            "Iteration: 11000. Train_Loss: 0.44553674273631416. Valid_Loss: 0.8847932684659958. Accuracy: 78.47\n",
            "Iteration: 11500. Train_Loss: 0.22177273324330649. Valid_Loss: 0.7655186057090759. Accuracy: 78.92\n",
            "Iteration: 12000. Train_Loss: 0.44389100800459436. Valid_Loss: 0.6459816293179989. Accuracy: 78.83\n",
            "Iteration: 12500. Train_Loss: 0.27482231578826904. Valid_Loss: 0.9274035096168518. Accuracy: 78.37\n",
            "Iteration: 13000. Train_Loss: 0.43773167940910024. Valid_Loss: 0.7185533001959324. Accuracy: 79.09\n",
            "Iteration: 13500. Train_Loss: 0.319262735080719. Valid_Loss: 0.8601019978523254. Accuracy: 79.13\n",
            "Iteration: 14000. Train_Loss: 0.4366663990218115. Valid_Loss: 0.8108725554764271. Accuracy: 79.41\n",
            "Iteration: 14500. Train_Loss: 0.37324580895105997. Valid_Loss: 0.9235966205596924. Accuracy: 79.32\n",
            "Iteration: 15000. Train_Loss: 0.4289644400532622. Valid_Loss: 0.5354150854349137. Accuracy: 79.57\n",
            "***Validation loss decreased (0.6057 --> 0.5354). Saving model ...***\n",
            "Iteration: 15500. Train_Loss: 0.42239933513005573. Valid_Loss: 0.6633563041687012. Accuracy: 78.95\n",
            "Iteration: 16000. Train_Loss: 0.045776964251200356. Valid_Loss: 0.5447065234184265. Accuracy: 79.78\n",
            "Iteration: 16500. Train_Loss: 0.4283391596893639. Valid_Loss: 0.9044064799487591. Accuracy: 80.1\n",
            "Iteration: 17000. Train_Loss: 0.09436385437647501. Valid_Loss: 1.0534734725952148. Accuracy: 79.35\n",
            "Iteration: 17500. Train_Loss: 0.42249198378996794. Valid_Loss: 1.0695171019554137. Accuracy: 80.03\n",
            "Iteration: 18000. Train_Loss: 0.14697215849558512. Valid_Loss: 0.6791157126426697. Accuracy: 79.64\n",
            "Iteration: 18500. Train_Loss: 0.40981417372191853. Valid_Loss: 0.6180723528325558. Accuracy: 80.1\n",
            "Iteration: 19000. Train_Loss: 0.1985808185259501. Valid_Loss: 1.0167022943496704. Accuracy: 80.12\n",
            "Iteration: 19500. Train_Loss: 0.41486975215403826. Valid_Loss: 0.7082343544602394. Accuracy: 80.06\n",
            "Iteration: 20000. Train_Loss: 0.24697069671948751. Valid_Loss: 0.9504713416099548. Accuracy: 79.43\n",
            "Iteration: 20500. Train_Loss: 0.4126963467207795. Valid_Loss: 0.8006503955304622. Accuracy: 79.54\n",
            "Iteration: 21000. Train_Loss: 0.3059584065755208. Valid_Loss: 0.8285046219825745. Accuracy: 79.86\n",
            "Iteration: 21500. Train_Loss: 0.3969877105020227. Valid_Loss: 1.0671854019224645. Accuracy: 79.36\n",
            "Iteration: 22000. Train_Loss: 0.34314492802619934. Valid_Loss: 0.7778754234313965. Accuracy: 80.44\n",
            "Iteration: 22500. Train_Loss: 0.4027016238933571. Valid_Loss: 0.7735155259609222. Accuracy: 80.41\n",
            "Iteration: 23000. Train_Loss: 0.39029014892578123. Valid_Loss: 0.5124678015708923. Accuracy: 79.39\n",
            "***Validation loss decreased (0.5354 --> 0.5125). Saving model ...***\n",
            "Iteration: 23500. Train_Loss: 0.037930366071065265. Valid_Loss: 0.59316486120224. Accuracy: 80.08\n",
            "Iteration: 24000. Train_Loss: 0.39825553566410593. Valid_Loss: 1.3499154547154903. Accuracy: 78.93\n",
            "Iteration: 24500. Train_Loss: 0.08736572138468425. Valid_Loss: 0.9009878039360046. Accuracy: 80.07\n",
            "Iteration: 25000. Train_Loss: 0.3949140438651827. Valid_Loss: 0.9607401851832866. Accuracy: 80.05\n",
            "Iteration: 25500. Train_Loss: 0.13158695627848307. Valid_Loss: 0.9033536314964294. Accuracy: 80.19\n",
            "Iteration: 26000. Train_Loss: 0.39668307588774787. Valid_Loss: 0.700618837827444. Accuracy: 79.79\n",
            "Iteration: 26500. Train_Loss: 0.18662850530942282. Valid_Loss: 0.7598236203193665. Accuracy: 80.32\n",
            "Iteration: 27000. Train_Loss: 0.3882269424783641. Valid_Loss: 0.7910227639973164. Accuracy: 80.65\n",
            "Iteration: 27500. Train_Loss: 0.22826089763641358. Valid_Loss: 0.6941783428192139. Accuracy: 79.91\n",
            "Iteration: 28000. Train_Loss: 0.388401526989921. Valid_Loss: 1.0871957920789719. Accuracy: 80.03\n",
            "Iteration: 28500. Train_Loss: 0.27722015206019085. Valid_Loss: 0.7753505706787109. Accuracy: 80.19\n",
            "Iteration: 29000. Train_Loss: 0.3808099506759352. Valid_Loss: 0.7176672710418701. Accuracy: 80.63\n",
            "Iteration: 29500. Train_Loss: 0.3243306814988454. Valid_Loss: 0.6905059218406677. Accuracy: 80.29\n",
            "Iteration: 30000. Train_Loss: 0.3792169906992703. Valid_Loss: 0.6488275812089443. Accuracy: 80.31\n",
            "Iteration: 30500. Train_Loss: 0.36235274882316587. Valid_Loss: 0.6141842603683472. Accuracy: 80.59\n",
            "Iteration: 31000. Train_Loss: 0.032326834265391034. Valid_Loss: 0.8644542098045349. Accuracy: 80.32\n",
            "Iteration: 31500. Train_Loss: 0.3795488526208014. Valid_Loss: 0.63138778886199. Accuracy: 80.55\n",
            "Iteration: 32000. Train_Loss: 0.07775555276870727. Valid_Loss: 0.5740995407104492. Accuracy: 80.7\n",
            "Iteration: 32500. Train_Loss: 0.3778827543355067. Valid_Loss: 0.9832102763175964. Accuracy: 80.15\n",
            "Iteration: 33000. Train_Loss: 0.12833868573506674. Valid_Loss: 0.7635865211486816. Accuracy: 81.1\n",
            "Iteration: 33500. Train_Loss: 0.37310475961153877. Valid_Loss: 1.0897347382068634. Accuracy: 80.22\n",
            "Iteration: 34000. Train_Loss: 0.16826337051391602. Valid_Loss: 0.6380029320716858. Accuracy: 80.8\n",
            "Iteration: 34500. Train_Loss: 0.370577515044721. Valid_Loss: 0.7429158920824528. Accuracy: 80.89\n",
            "Iteration: 35000. Train_Loss: 0.21414962639808655. Valid_Loss: 0.4054841697216034. Accuracy: 80.55\n",
            "***Validation loss decreased (0.5125 --> 0.4055). Saving model ...***\n",
            "Iteration: 35500. Train_Loss: 0.369054062639215. Valid_Loss: 0.7140831523865462. Accuracy: 79.78\n",
            "Iteration: 36000. Train_Loss: 0.2587837349096934. Valid_Loss: 0.47011250257492065. Accuracy: 80.48\n",
            "Iteration: 36500. Train_Loss: 0.36297805659633664. Valid_Loss: 1.1362854670226574. Accuracy: 80.11\n",
            "Iteration: 37000. Train_Loss: 0.3019711594104767. Valid_Loss: 0.4469682276248932. Accuracy: 79.83\n",
            "Iteration: 37500. Train_Loss: 0.3647975397381854. Valid_Loss: 0.8474888734966517. Accuracy: 80.46\n",
            "Iteration: 38000. Train_Loss: 0.33922609553337096. Valid_Loss: 0.5088658332824707. Accuracy: 80.81\n",
            "Iteration: 38500. Train_Loss: 0.030349338563283285. Valid_Loss: 0.7312023639678955. Accuracy: 80.68\n",
            "Iteration: 39000. Train_Loss: 0.3541677094870891. Valid_Loss: 0.8381544204950333. Accuracy: 80.94\n"
          ]
        }
      ]
    },
    {
      "cell_type": "markdown",
      "metadata": {
        "id": "ONVouEbVj7Qf"
      },
      "source": [
        "## Loss Graph"
      ]
    },
    {
      "cell_type": "code",
      "metadata": {
        "colab": {
          "base_uri": "https://localhost:8080/",
          "height": 350
        },
        "id": "P_OaHGkej-9D",
        "outputId": "7ca6af3b-5c41-46ef-fd86-1a284d78098c"
      },
      "source": [
        "import matplotlib.pyplot as plt\n",
        "plt.plot(iter_data, train_loss_data, 'r', label='Training loss')\n",
        "plt.plot(iter_data, test_loss_data, 'b', label='validation loss')\n",
        "plt.title('Training and Validation loss')\n",
        "plt.xlabel('Iteration')\n",
        "plt.ylabel('Loss')\n",
        "plt.legend()\n",
        "plt.show()"
      ],
      "execution_count": 30,
      "outputs": [
        {
          "output_type": "display_data",
          "data": {
            "image/png": "[encoded data removed]",
            "text/plain": [
              "<Figure size 576x360 with 1 Axes>"
            ]
          },
          "metadata": {
            "needs_background": "light"
          }
        }
      ]
    },
    {
      "cell_type": "markdown",
      "metadata": {
        "id": "2tnvx2XAkK8J"
      },
      "source": [
        "## Accuracy Graph"
      ]
    },
    {
      "cell_type": "code",
      "metadata": {
        "id": "HrK99z1IkN4Q",
        "outputId": "e2a2475c-1da8-4da0-e2d1-50458b93fc89",
        "colab": {
          "base_uri": "https://localhost:8080/",
          "height": 350
        }
      },
      "source": [
        "import numpy as np\n",
        "import matplotlib.pyplot as plt\n",
        "plt.plot(iter_data, acc_data, 'g', label='Accuracy')\n",
        "plt.title('Accuracy Graph')\n",
        "plt.xlabel('Iteration')\n",
        "plt.ylabel('Accuracy')\n",
        "plt.legend()\n",
        "plt.show()"
      ],
      "execution_count": 31,
      "outputs": [
        {
          "output_type": "display_data",
          "data": {
            "image/png": "[encoded data removed]",
            "text/plain": [
              "<Figure size 576x360 with 1 Axes>"
            ]
          },
          "metadata": {
            "needs_background": "light"
          }
        }
      ]
    }
  ]
}